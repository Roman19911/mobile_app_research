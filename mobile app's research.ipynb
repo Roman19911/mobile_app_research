{
 "cells": [
  {
   "cell_type": "markdown",
   "metadata": {},
   "source": [
    "# Задача 1."
   ]
  },
  {
   "cell_type": "raw",
   "metadata": {},
   "source": [
    "Задача – написать функцию в python, которая будет считать retention игроков (по дням от даты регистрации игрока). Данные лежат в папке shared и имеют следующую структуру:\n",
    "\n",
    "Описание представленных данных:\n",
    "\n",
    "- shared/problem1-reg_data.csv – данные о времени регистрации:\n",
    "\n",
    "reg_ts\t    uid\n",
    "906166566\t2\n",
    "906344325\t3\n",
    "906686169\t4\n",
    "906893386\t5\n",
    "906980227\t6\n",
    "\n",
    "-shared/problem1-auth_data.csv – данные о времени захода пользователей в игру:\n",
    "\n",
    "auth_ts\t    uid\n",
    "906166566\t2\n",
    "924422172\t2\n",
    "937374732\t2\n",
    "947425117\t2\n",
    "955630339\t2"
   ]
  },
  {
   "cell_type": "code",
   "execution_count": 1,
   "metadata": {},
   "outputs": [],
   "source": [
    "#Импортируем библиотеки\n",
    "import pandas as pd\n",
    "import numpy as np\n",
    "import scipy.stats as ss"
   ]
  },
  {
   "cell_type": "code",
   "execution_count": 2,
   "metadata": {},
   "outputs": [],
   "source": [
    "#Считываем данные из предоставленных нам данных\n",
    "reg_data = pd.read_csv('~/shared/problem1-reg_data.csv', sep = ';')\n",
    "auth_data = pd.read_csv('~/shared/problem1-auth_data.csv', sep = ';')"
   ]
  },
  {
   "cell_type": "code",
   "execution_count": 3,
   "metadata": {},
   "outputs": [],
   "source": [
    "#Приводим даты к корректному виду\n",
    "reg_data['reg_ts'] = pd.to_datetime(reg_data['reg_ts'], unit='s')\n",
    "auth_data['auth_ts'] = pd.to_datetime(auth_data['auth_ts'], unit = 's')"
   ]
  },
  {
   "cell_type": "code",
   "execution_count": 34,
   "metadata": {},
   "outputs": [
    {
     "data": {
      "text/html": [
       "<div>\n",
       "<style scoped>\n",
       "    .dataframe tbody tr th:only-of-type {\n",
       "        vertical-align: middle;\n",
       "    }\n",
       "\n",
       "    .dataframe tbody tr th {\n",
       "        vertical-align: top;\n",
       "    }\n",
       "\n",
       "    .dataframe thead th {\n",
       "        text-align: right;\n",
       "    }\n",
       "</style>\n",
       "<table border=\"1\" class=\"dataframe\">\n",
       "  <thead>\n",
       "    <tr style=\"text-align: right;\">\n",
       "      <th></th>\n",
       "      <th>reg_ts</th>\n",
       "      <th>uid</th>\n",
       "    </tr>\n",
       "  </thead>\n",
       "  <tbody>\n",
       "    <tr>\n",
       "      <th>0</th>\n",
       "      <td>1998-11-18 09:43:43</td>\n",
       "      <td>1</td>\n",
       "    </tr>\n",
       "    <tr>\n",
       "      <th>1</th>\n",
       "      <td>1999-07-22 22:38:09</td>\n",
       "      <td>2</td>\n",
       "    </tr>\n",
       "    <tr>\n",
       "      <th>2</th>\n",
       "      <td>2000-01-13 22:27:27</td>\n",
       "      <td>3</td>\n",
       "    </tr>\n",
       "    <tr>\n",
       "      <th>3</th>\n",
       "      <td>2000-05-28 14:19:01</td>\n",
       "      <td>4</td>\n",
       "    </tr>\n",
       "    <tr>\n",
       "      <th>4</th>\n",
       "      <td>2000-09-16 11:21:53</td>\n",
       "      <td>5</td>\n",
       "    </tr>\n",
       "  </tbody>\n",
       "</table>\n",
       "</div>"
      ],
      "text/plain": [
       "               reg_ts  uid\n",
       "0 1998-11-18 09:43:43    1\n",
       "1 1999-07-22 22:38:09    2\n",
       "2 2000-01-13 22:27:27    3\n",
       "3 2000-05-28 14:19:01    4\n",
       "4 2000-09-16 11:21:53    5"
      ]
     },
     "execution_count": 34,
     "metadata": {},
     "output_type": "execute_result"
    }
   ],
   "source": [
    "reg_data.head()"
   ]
  },
  {
   "cell_type": "code",
   "execution_count": 33,
   "metadata": {},
   "outputs": [
    {
     "data": {
      "text/html": [
       "<div>\n",
       "<style scoped>\n",
       "    .dataframe tbody tr th:only-of-type {\n",
       "        vertical-align: middle;\n",
       "    }\n",
       "\n",
       "    .dataframe tbody tr th {\n",
       "        vertical-align: top;\n",
       "    }\n",
       "\n",
       "    .dataframe thead th {\n",
       "        text-align: right;\n",
       "    }\n",
       "</style>\n",
       "<table border=\"1\" class=\"dataframe\">\n",
       "  <thead>\n",
       "    <tr style=\"text-align: right;\">\n",
       "      <th></th>\n",
       "      <th>auth_ts</th>\n",
       "      <th>uid</th>\n",
       "    </tr>\n",
       "  </thead>\n",
       "  <tbody>\n",
       "    <tr>\n",
       "      <th>0</th>\n",
       "      <td>1998-11-18 09:43:43</td>\n",
       "      <td>1</td>\n",
       "    </tr>\n",
       "    <tr>\n",
       "      <th>1</th>\n",
       "      <td>1999-07-22 22:38:09</td>\n",
       "      <td>2</td>\n",
       "    </tr>\n",
       "    <tr>\n",
       "      <th>2</th>\n",
       "      <td>1999-07-25 16:46:46</td>\n",
       "      <td>2</td>\n",
       "    </tr>\n",
       "    <tr>\n",
       "      <th>3</th>\n",
       "      <td>1999-07-31 03:50:15</td>\n",
       "      <td>2</td>\n",
       "    </tr>\n",
       "    <tr>\n",
       "      <th>4</th>\n",
       "      <td>1999-08-05 17:49:39</td>\n",
       "      <td>2</td>\n",
       "    </tr>\n",
       "  </tbody>\n",
       "</table>\n",
       "</div>"
      ],
      "text/plain": [
       "              auth_ts  uid\n",
       "0 1998-11-18 09:43:43    1\n",
       "1 1999-07-22 22:38:09    2\n",
       "2 1999-07-25 16:46:46    2\n",
       "3 1999-07-31 03:50:15    2\n",
       "4 1999-08-05 17:49:39    2"
      ]
     },
     "execution_count": 33,
     "metadata": {},
     "output_type": "execute_result"
    }
   ],
   "source": [
    "auth_data.head()"
   ]
  },
  {
   "cell_type": "code",
   "execution_count": 6,
   "metadata": {},
   "outputs": [
    {
     "name": "stdout",
     "output_type": "stream",
     "text": [
      "<class 'pandas.core.frame.DataFrame'>\n",
      "RangeIndex: 1000000 entries, 0 to 999999\n",
      "Data columns (total 2 columns):\n",
      " #   Column  Non-Null Count    Dtype         \n",
      "---  ------  --------------    -----         \n",
      " 0   reg_ts  1000000 non-null  datetime64[ns]\n",
      " 1   uid     1000000 non-null  int64         \n",
      "dtypes: datetime64[ns](1), int64(1)\n",
      "memory usage: 15.3 MB\n"
     ]
    }
   ],
   "source": [
    "#Проверяем данные на наличие пропусков:\n",
    "reg_data.info()"
   ]
  },
  {
   "cell_type": "code",
   "execution_count": 7,
   "metadata": {},
   "outputs": [
    {
     "name": "stdout",
     "output_type": "stream",
     "text": [
      "<class 'pandas.core.frame.DataFrame'>\n",
      "RangeIndex: 9601013 entries, 0 to 9601012\n",
      "Data columns (total 2 columns):\n",
      " #   Column   Dtype         \n",
      "---  ------   -----         \n",
      " 0   auth_ts  datetime64[ns]\n",
      " 1   uid      int64         \n",
      "dtypes: datetime64[ns](1), int64(1)\n",
      "memory usage: 146.5 MB\n"
     ]
    },
    {
     "data": {
      "text/plain": [
       "auth_ts    0\n",
       "uid        0\n",
       "dtype: int64"
      ]
     },
     "execution_count": 7,
     "metadata": {},
     "output_type": "execute_result"
    }
   ],
   "source": [
    "auth_data.info()\n",
    "auth_data.isnull().sum()"
   ]
  },
  {
   "cell_type": "markdown",
   "metadata": {},
   "source": [
    "Пропуски отсутствуют."
   ]
  },
  {
   "cell_type": "code",
   "execution_count": 8,
   "metadata": {},
   "outputs": [
    {
     "data": {
      "text/plain": [
       "reg_ts    1000000\n",
       "uid       1000000\n",
       "dtype: int64"
      ]
     },
     "execution_count": 8,
     "metadata": {},
     "output_type": "execute_result"
    }
   ],
   "source": [
    "#Проверяем данные на наличие дубликатов:\n",
    "reg_data.nunique()"
   ]
  },
  {
   "cell_type": "code",
   "execution_count": 9,
   "metadata": {},
   "outputs": [
    {
     "data": {
      "text/plain": [
       "auth_ts    9180915\n",
       "uid        1000000\n",
       "dtype: int64"
      ]
     },
     "execution_count": 9,
     "metadata": {},
     "output_type": "execute_result"
    }
   ],
   "source": [
    "auth_data.nunique()"
   ]
  },
  {
   "cell_type": "markdown",
   "metadata": {},
   "source": [
    "Исходя из EDA: \n",
    "- в датасете reg_data каждому значению столбца uid соответствует единственное значение столбца reg_ts, \n",
    "- в датасете auth_data одному и тому же значению столбца uid может соответствовать несколько значений столбца auth_ts."
   ]
  },
  {
   "cell_type": "code",
   "execution_count": 10,
   "metadata": {},
   "outputs": [
    {
     "name": "stdout",
     "output_type": "stream",
     "text": [
      "1998-11-18 09:43:43\n",
      "2020-09-23 15:17:24\n",
      "1998-11-18 09:43:43\n",
      "2020-09-23 15:17:24\n"
     ]
    }
   ],
   "source": [
    "# Определим период для анализа retention. Посмотрим границы временного интервала данных\n",
    "print(reg_data.reg_ts.min())\n",
    "print(reg_data.reg_ts.max())\n",
    "print(auth_data.auth_ts.min())\n",
    "print(auth_data.auth_ts.max())"
   ]
  },
  {
   "cell_type": "code",
   "execution_count": 11,
   "metadata": {},
   "outputs": [],
   "source": [
    "# Проанализируем retention за первые 2 недели января 2020, чтобы данные читаемо отображались в результате\n",
    "start_analyse_period = pd.to_datetime('2020-01-01')\n",
    "end_analyse_period = pd.to_datetime('2020-01-15')"
   ]
  },
  {
   "cell_type": "code",
   "execution_count": 12,
   "metadata": {},
   "outputs": [
    {
     "data": {
      "text/html": [
       "<div>\n",
       "<style scoped>\n",
       "    .dataframe tbody tr th:only-of-type {\n",
       "        vertical-align: middle;\n",
       "    }\n",
       "\n",
       "    .dataframe tbody tr th {\n",
       "        vertical-align: top;\n",
       "    }\n",
       "\n",
       "    .dataframe thead th {\n",
       "        text-align: right;\n",
       "    }\n",
       "</style>\n",
       "<table border=\"1\" class=\"dataframe\">\n",
       "  <thead>\n",
       "    <tr style=\"text-align: right;\">\n",
       "      <th>day_play</th>\n",
       "      <th>0</th>\n",
       "      <th>1</th>\n",
       "      <th>2</th>\n",
       "      <th>3</th>\n",
       "      <th>4</th>\n",
       "      <th>5</th>\n",
       "      <th>6</th>\n",
       "      <th>7</th>\n",
       "      <th>8</th>\n",
       "      <th>9</th>\n",
       "      <th>10</th>\n",
       "      <th>11</th>\n",
       "      <th>12</th>\n",
       "      <th>13</th>\n",
       "    </tr>\n",
       "    <tr>\n",
       "      <th>registration_day</th>\n",
       "      <th></th>\n",
       "      <th></th>\n",
       "      <th></th>\n",
       "      <th></th>\n",
       "      <th></th>\n",
       "      <th></th>\n",
       "      <th></th>\n",
       "      <th></th>\n",
       "      <th></th>\n",
       "      <th></th>\n",
       "      <th></th>\n",
       "      <th></th>\n",
       "      <th></th>\n",
       "      <th></th>\n",
       "    </tr>\n",
       "  </thead>\n",
       "  <tbody>\n",
       "    <tr>\n",
       "      <th>2020-01-01</th>\n",
       "      <td>100.0</td>\n",
       "      <td>2.639020</td>\n",
       "      <td>4.524034</td>\n",
       "      <td>3.393025</td>\n",
       "      <td>5.655042</td>\n",
       "      <td>5.843544</td>\n",
       "      <td>7.540057</td>\n",
       "      <td>4.995287</td>\n",
       "      <td>4.429783</td>\n",
       "      <td>4.429783</td>\n",
       "      <td>5.372290</td>\n",
       "      <td>6.503299</td>\n",
       "      <td>4.618285</td>\n",
       "      <td>4.901037</td>\n",
       "    </tr>\n",
       "    <tr>\n",
       "      <th>2020-01-02</th>\n",
       "      <td>100.0</td>\n",
       "      <td>2.351834</td>\n",
       "      <td>4.515522</td>\n",
       "      <td>5.174036</td>\n",
       "      <td>4.797742</td>\n",
       "      <td>5.832549</td>\n",
       "      <td>7.714017</td>\n",
       "      <td>5.926623</td>\n",
       "      <td>5.644403</td>\n",
       "      <td>5.268109</td>\n",
       "      <td>5.644403</td>\n",
       "      <td>5.644403</td>\n",
       "      <td>4.515522</td>\n",
       "      <td>0.000000</td>\n",
       "    </tr>\n",
       "    <tr>\n",
       "      <th>2020-01-03</th>\n",
       "      <td>100.0</td>\n",
       "      <td>2.347418</td>\n",
       "      <td>3.380282</td>\n",
       "      <td>4.413146</td>\n",
       "      <td>4.507042</td>\n",
       "      <td>6.854460</td>\n",
       "      <td>7.511737</td>\n",
       "      <td>5.446009</td>\n",
       "      <td>4.507042</td>\n",
       "      <td>4.225352</td>\n",
       "      <td>5.258216</td>\n",
       "      <td>5.821596</td>\n",
       "      <td>0.000000</td>\n",
       "      <td>0.000000</td>\n",
       "    </tr>\n",
       "    <tr>\n",
       "      <th>2020-01-04</th>\n",
       "      <td>100.0</td>\n",
       "      <td>1.499531</td>\n",
       "      <td>4.498594</td>\n",
       "      <td>5.060918</td>\n",
       "      <td>5.342081</td>\n",
       "      <td>5.716963</td>\n",
       "      <td>7.029053</td>\n",
       "      <td>5.435801</td>\n",
       "      <td>4.217432</td>\n",
       "      <td>4.873477</td>\n",
       "      <td>4.779756</td>\n",
       "      <td>0.000000</td>\n",
       "      <td>0.000000</td>\n",
       "      <td>0.000000</td>\n",
       "    </tr>\n",
       "    <tr>\n",
       "      <th>2020-01-05</th>\n",
       "      <td>100.0</td>\n",
       "      <td>1.964453</td>\n",
       "      <td>4.490178</td>\n",
       "      <td>4.583723</td>\n",
       "      <td>4.396632</td>\n",
       "      <td>4.770814</td>\n",
       "      <td>7.857811</td>\n",
       "      <td>5.238541</td>\n",
       "      <td>3.928906</td>\n",
       "      <td>5.425631</td>\n",
       "      <td>0.000000</td>\n",
       "      <td>0.000000</td>\n",
       "      <td>0.000000</td>\n",
       "      <td>0.000000</td>\n",
       "    </tr>\n",
       "    <tr>\n",
       "      <th>2020-01-06</th>\n",
       "      <td>100.0</td>\n",
       "      <td>2.897196</td>\n",
       "      <td>4.485981</td>\n",
       "      <td>4.953271</td>\n",
       "      <td>3.831776</td>\n",
       "      <td>4.672897</td>\n",
       "      <td>6.635514</td>\n",
       "      <td>5.887850</td>\n",
       "      <td>5.233645</td>\n",
       "      <td>0.000000</td>\n",
       "      <td>0.000000</td>\n",
       "      <td>0.000000</td>\n",
       "      <td>0.000000</td>\n",
       "      <td>0.000000</td>\n",
       "    </tr>\n",
       "    <tr>\n",
       "      <th>2020-01-07</th>\n",
       "      <td>100.0</td>\n",
       "      <td>1.865672</td>\n",
       "      <td>4.850746</td>\n",
       "      <td>4.384328</td>\n",
       "      <td>6.436567</td>\n",
       "      <td>5.037313</td>\n",
       "      <td>8.488806</td>\n",
       "      <td>5.130597</td>\n",
       "      <td>0.000000</td>\n",
       "      <td>0.000000</td>\n",
       "      <td>0.000000</td>\n",
       "      <td>0.000000</td>\n",
       "      <td>0.000000</td>\n",
       "      <td>0.000000</td>\n",
       "    </tr>\n",
       "    <tr>\n",
       "      <th>2020-01-08</th>\n",
       "      <td>100.0</td>\n",
       "      <td>2.234637</td>\n",
       "      <td>4.003724</td>\n",
       "      <td>4.283054</td>\n",
       "      <td>5.121043</td>\n",
       "      <td>5.027933</td>\n",
       "      <td>8.472998</td>\n",
       "      <td>0.000000</td>\n",
       "      <td>0.000000</td>\n",
       "      <td>0.000000</td>\n",
       "      <td>0.000000</td>\n",
       "      <td>0.000000</td>\n",
       "      <td>0.000000</td>\n",
       "      <td>0.000000</td>\n",
       "    </tr>\n",
       "    <tr>\n",
       "      <th>2020-01-09</th>\n",
       "      <td>100.0</td>\n",
       "      <td>1.858736</td>\n",
       "      <td>3.996283</td>\n",
       "      <td>5.483271</td>\n",
       "      <td>4.460967</td>\n",
       "      <td>6.040892</td>\n",
       "      <td>0.000000</td>\n",
       "      <td>0.000000</td>\n",
       "      <td>0.000000</td>\n",
       "      <td>0.000000</td>\n",
       "      <td>0.000000</td>\n",
       "      <td>0.000000</td>\n",
       "      <td>0.000000</td>\n",
       "      <td>0.000000</td>\n",
       "    </tr>\n",
       "    <tr>\n",
       "      <th>2020-01-10</th>\n",
       "      <td>100.0</td>\n",
       "      <td>1.949861</td>\n",
       "      <td>3.714020</td>\n",
       "      <td>5.106778</td>\n",
       "      <td>4.271123</td>\n",
       "      <td>0.000000</td>\n",
       "      <td>0.000000</td>\n",
       "      <td>0.000000</td>\n",
       "      <td>0.000000</td>\n",
       "      <td>0.000000</td>\n",
       "      <td>0.000000</td>\n",
       "      <td>0.000000</td>\n",
       "      <td>0.000000</td>\n",
       "      <td>0.000000</td>\n",
       "    </tr>\n",
       "    <tr>\n",
       "      <th>2020-01-11</th>\n",
       "      <td>100.0</td>\n",
       "      <td>1.575533</td>\n",
       "      <td>3.892493</td>\n",
       "      <td>5.097312</td>\n",
       "      <td>0.000000</td>\n",
       "      <td>0.000000</td>\n",
       "      <td>0.000000</td>\n",
       "      <td>0.000000</td>\n",
       "      <td>0.000000</td>\n",
       "      <td>0.000000</td>\n",
       "      <td>0.000000</td>\n",
       "      <td>0.000000</td>\n",
       "      <td>0.000000</td>\n",
       "      <td>0.000000</td>\n",
       "    </tr>\n",
       "    <tr>\n",
       "      <th>2020-01-12</th>\n",
       "      <td>100.0</td>\n",
       "      <td>1.850139</td>\n",
       "      <td>4.532840</td>\n",
       "      <td>0.000000</td>\n",
       "      <td>0.000000</td>\n",
       "      <td>0.000000</td>\n",
       "      <td>0.000000</td>\n",
       "      <td>0.000000</td>\n",
       "      <td>0.000000</td>\n",
       "      <td>0.000000</td>\n",
       "      <td>0.000000</td>\n",
       "      <td>0.000000</td>\n",
       "      <td>0.000000</td>\n",
       "      <td>0.000000</td>\n",
       "    </tr>\n",
       "    <tr>\n",
       "      <th>2020-01-13</th>\n",
       "      <td>100.0</td>\n",
       "      <td>1.939058</td>\n",
       "      <td>0.000000</td>\n",
       "      <td>0.000000</td>\n",
       "      <td>0.000000</td>\n",
       "      <td>0.000000</td>\n",
       "      <td>0.000000</td>\n",
       "      <td>0.000000</td>\n",
       "      <td>0.000000</td>\n",
       "      <td>0.000000</td>\n",
       "      <td>0.000000</td>\n",
       "      <td>0.000000</td>\n",
       "      <td>0.000000</td>\n",
       "      <td>0.000000</td>\n",
       "    </tr>\n",
       "    <tr>\n",
       "      <th>2020-01-14</th>\n",
       "      <td>100.0</td>\n",
       "      <td>0.000000</td>\n",
       "      <td>0.000000</td>\n",
       "      <td>0.000000</td>\n",
       "      <td>0.000000</td>\n",
       "      <td>0.000000</td>\n",
       "      <td>0.000000</td>\n",
       "      <td>0.000000</td>\n",
       "      <td>0.000000</td>\n",
       "      <td>0.000000</td>\n",
       "      <td>0.000000</td>\n",
       "      <td>0.000000</td>\n",
       "      <td>0.000000</td>\n",
       "      <td>0.000000</td>\n",
       "    </tr>\n",
       "  </tbody>\n",
       "</table>\n",
       "</div>"
      ],
      "text/plain": [
       "day_play             0         1         2         3         4         5   \\\n",
       "registration_day                                                            \n",
       "2020-01-01        100.0  2.639020  4.524034  3.393025  5.655042  5.843544   \n",
       "2020-01-02        100.0  2.351834  4.515522  5.174036  4.797742  5.832549   \n",
       "2020-01-03        100.0  2.347418  3.380282  4.413146  4.507042  6.854460   \n",
       "2020-01-04        100.0  1.499531  4.498594  5.060918  5.342081  5.716963   \n",
       "2020-01-05        100.0  1.964453  4.490178  4.583723  4.396632  4.770814   \n",
       "2020-01-06        100.0  2.897196  4.485981  4.953271  3.831776  4.672897   \n",
       "2020-01-07        100.0  1.865672  4.850746  4.384328  6.436567  5.037313   \n",
       "2020-01-08        100.0  2.234637  4.003724  4.283054  5.121043  5.027933   \n",
       "2020-01-09        100.0  1.858736  3.996283  5.483271  4.460967  6.040892   \n",
       "2020-01-10        100.0  1.949861  3.714020  5.106778  4.271123  0.000000   \n",
       "2020-01-11        100.0  1.575533  3.892493  5.097312  0.000000  0.000000   \n",
       "2020-01-12        100.0  1.850139  4.532840  0.000000  0.000000  0.000000   \n",
       "2020-01-13        100.0  1.939058  0.000000  0.000000  0.000000  0.000000   \n",
       "2020-01-14        100.0  0.000000  0.000000  0.000000  0.000000  0.000000   \n",
       "\n",
       "day_play                6         7         8         9         10        11  \\\n",
       "registration_day                                                               \n",
       "2020-01-01        7.540057  4.995287  4.429783  4.429783  5.372290  6.503299   \n",
       "2020-01-02        7.714017  5.926623  5.644403  5.268109  5.644403  5.644403   \n",
       "2020-01-03        7.511737  5.446009  4.507042  4.225352  5.258216  5.821596   \n",
       "2020-01-04        7.029053  5.435801  4.217432  4.873477  4.779756  0.000000   \n",
       "2020-01-05        7.857811  5.238541  3.928906  5.425631  0.000000  0.000000   \n",
       "2020-01-06        6.635514  5.887850  5.233645  0.000000  0.000000  0.000000   \n",
       "2020-01-07        8.488806  5.130597  0.000000  0.000000  0.000000  0.000000   \n",
       "2020-01-08        8.472998  0.000000  0.000000  0.000000  0.000000  0.000000   \n",
       "2020-01-09        0.000000  0.000000  0.000000  0.000000  0.000000  0.000000   \n",
       "2020-01-10        0.000000  0.000000  0.000000  0.000000  0.000000  0.000000   \n",
       "2020-01-11        0.000000  0.000000  0.000000  0.000000  0.000000  0.000000   \n",
       "2020-01-12        0.000000  0.000000  0.000000  0.000000  0.000000  0.000000   \n",
       "2020-01-13        0.000000  0.000000  0.000000  0.000000  0.000000  0.000000   \n",
       "2020-01-14        0.000000  0.000000  0.000000  0.000000  0.000000  0.000000   \n",
       "\n",
       "day_play                12        13  \n",
       "registration_day                      \n",
       "2020-01-01        4.618285  4.901037  \n",
       "2020-01-02        4.515522  0.000000  \n",
       "2020-01-03        0.000000  0.000000  \n",
       "2020-01-04        0.000000  0.000000  \n",
       "2020-01-05        0.000000  0.000000  \n",
       "2020-01-06        0.000000  0.000000  \n",
       "2020-01-07        0.000000  0.000000  \n",
       "2020-01-08        0.000000  0.000000  \n",
       "2020-01-09        0.000000  0.000000  \n",
       "2020-01-10        0.000000  0.000000  \n",
       "2020-01-11        0.000000  0.000000  \n",
       "2020-01-12        0.000000  0.000000  \n",
       "2020-01-13        0.000000  0.000000  \n",
       "2020-01-14        0.000000  0.000000  "
      ]
     },
     "execution_count": 12,
     "metadata": {},
     "output_type": "execute_result"
    }
   ],
   "source": [
    "#Пишем функцию для расчёта retention\n",
    "def calculate_retention(reg_data, auth_data, period = 'D'):\n",
    "    '''\n",
    "    Рассчитывает retention по дням за заданный период времени.\n",
    "        Параметры: \n",
    "            reg_data: данные о данные о времени регистрации\n",
    "            auth_data: данные о времени захода пользователей в игру\n",
    "        \n",
    "        Возвращаемое значение:\n",
    "            retention по дням за анализируемый период\n",
    "    '''\n",
    "    \n",
    "    #Объединяем датафреймы для расчёта retention\n",
    "    data = reg_data.merge(auth_data, how = 'left', on = 'uid')\n",
    "    \n",
    "    #Фильтруем по периоду времени\n",
    "    data = data[(data['reg_ts'] >= start_analyse_period) & (data['reg_ts'] <= end_analyse_period)]\n",
    "    data = data[(data['auth_ts'] >= start_analyse_period) & (data['auth_ts'] <= end_analyse_period)]\n",
    "    \n",
    "    #Извлекаем дни регистрации и захода в игру в анализируемом периоде\n",
    "    data['registration_day'] = data['reg_ts'].dt.floor(period)\n",
    "    data['authorisation_day'] = data['auth_ts'].dt.floor(period)\n",
    "    \n",
    "    #Рассчитываем номер периода в днях со дня регистрации\n",
    "    data['day_play'] = (data['authorisation_day'] - data['registration_day']).dt.days\n",
    "    \n",
    "    #Считаем количество пользователей, зарегистрировавшихся в периоде\n",
    "    count_registrations = data.groupby('registration_day')['uid'].nunique()\n",
    "    \n",
    "    #Считаем количество вернувшихся пользователей\n",
    "    retention = data.groupby(['registration_day', 'day_play'])['uid'].nunique().unstack(fill_value = 0)\n",
    "    \n",
    "    #Считаем retention rate\n",
    "    retention_rate = retention.div(count_registrations, axis = 0) * 100\n",
    "    \n",
    "    return retention_rate\n",
    "\n",
    "#Применение функции\n",
    "retention_rate = calculate_retention(reg_data, auth_data)\n",
    "retention_rate"
   ]
  },
  {
   "cell_type": "markdown",
   "metadata": {},
   "source": [
    "# Задача 2."
   ]
  },
  {
   "cell_type": "markdown",
   "metadata": {},
   "source": [
    "Имеются результаты A/B теста, в котором двум группам пользователей предлагались различные наборы акционных предложений. \n",
    "Известно, что ARPU в тестовой группе выше на 5%, чем в контрольной. \n",
    "При этом в контрольной группе 1928 игроков из 202103 оказались платящими, а в тестовой – 1805 из 202667.\n",
    "\n",
    "Какой набор предложений можно считать лучшим? Какие метрики необходимы для принятия решения?"
   ]
  },
  {
   "cell_type": "code",
   "execution_count": 13,
   "metadata": {},
   "outputs": [],
   "source": [
    "#Подгружаем данные\n",
    "import requests\n",
    "from urllib.parse import urlencode\n",
    "\n",
    "base_url = 'https://cloud-api.yandex.net/v1/disk/public/resources/download?'\n",
    "public_key = 'https://disk.yandex.ru/d/SOkIsD5A8xlI7Q'\n",
    "total_url = base_url + urlencode(dict(public_key = public_key))\n",
    "response = requests.get(total_url)\n",
    "download_url = response.json()['href']"
   ]
  },
  {
   "cell_type": "code",
   "execution_count": 14,
   "metadata": {},
   "outputs": [
    {
     "data": {
      "text/html": [
       "<div>\n",
       "<style scoped>\n",
       "    .dataframe tbody tr th:only-of-type {\n",
       "        vertical-align: middle;\n",
       "    }\n",
       "\n",
       "    .dataframe tbody tr th {\n",
       "        vertical-align: top;\n",
       "    }\n",
       "\n",
       "    .dataframe thead th {\n",
       "        text-align: right;\n",
       "    }\n",
       "</style>\n",
       "<table border=\"1\" class=\"dataframe\">\n",
       "  <thead>\n",
       "    <tr style=\"text-align: right;\">\n",
       "      <th></th>\n",
       "      <th>user_id</th>\n",
       "      <th>revenue</th>\n",
       "      <th>testgroup</th>\n",
       "    </tr>\n",
       "  </thead>\n",
       "  <tbody>\n",
       "    <tr>\n",
       "      <th>0</th>\n",
       "      <td>1</td>\n",
       "      <td>0</td>\n",
       "      <td>b</td>\n",
       "    </tr>\n",
       "    <tr>\n",
       "      <th>1</th>\n",
       "      <td>2</td>\n",
       "      <td>0</td>\n",
       "      <td>a</td>\n",
       "    </tr>\n",
       "    <tr>\n",
       "      <th>2</th>\n",
       "      <td>3</td>\n",
       "      <td>0</td>\n",
       "      <td>a</td>\n",
       "    </tr>\n",
       "    <tr>\n",
       "      <th>3</th>\n",
       "      <td>4</td>\n",
       "      <td>0</td>\n",
       "      <td>b</td>\n",
       "    </tr>\n",
       "    <tr>\n",
       "      <th>4</th>\n",
       "      <td>5</td>\n",
       "      <td>0</td>\n",
       "      <td>b</td>\n",
       "    </tr>\n",
       "    <tr>\n",
       "      <th>...</th>\n",
       "      <td>...</td>\n",
       "      <td>...</td>\n",
       "      <td>...</td>\n",
       "    </tr>\n",
       "    <tr>\n",
       "      <th>404765</th>\n",
       "      <td>404766</td>\n",
       "      <td>0</td>\n",
       "      <td>a</td>\n",
       "    </tr>\n",
       "    <tr>\n",
       "      <th>404766</th>\n",
       "      <td>404767</td>\n",
       "      <td>0</td>\n",
       "      <td>b</td>\n",
       "    </tr>\n",
       "    <tr>\n",
       "      <th>404767</th>\n",
       "      <td>404768</td>\n",
       "      <td>231</td>\n",
       "      <td>a</td>\n",
       "    </tr>\n",
       "    <tr>\n",
       "      <th>404768</th>\n",
       "      <td>404769</td>\n",
       "      <td>0</td>\n",
       "      <td>a</td>\n",
       "    </tr>\n",
       "    <tr>\n",
       "      <th>404769</th>\n",
       "      <td>404770</td>\n",
       "      <td>0</td>\n",
       "      <td>b</td>\n",
       "    </tr>\n",
       "  </tbody>\n",
       "</table>\n",
       "<p>404770 rows × 3 columns</p>\n",
       "</div>"
      ],
      "text/plain": [
       "        user_id  revenue testgroup\n",
       "0             1        0         b\n",
       "1             2        0         a\n",
       "2             3        0         a\n",
       "3             4        0         b\n",
       "4             5        0         b\n",
       "...         ...      ...       ...\n",
       "404765   404766        0         a\n",
       "404766   404767        0         b\n",
       "404767   404768      231         a\n",
       "404768   404769        0         a\n",
       "404769   404770        0         b\n",
       "\n",
       "[404770 rows x 3 columns]"
      ]
     },
     "execution_count": 14,
     "metadata": {},
     "output_type": "execute_result"
    }
   ],
   "source": [
    "#Считываем данные\n",
    "task_2 = pd.read_csv(download_url, sep = ';')\n",
    "task_2"
   ]
  },
  {
   "cell_type": "code",
   "execution_count": 15,
   "metadata": {},
   "outputs": [
    {
     "name": "stdout",
     "output_type": "stream",
     "text": [
      "<class 'pandas.core.frame.DataFrame'>\n",
      "RangeIndex: 404770 entries, 0 to 404769\n",
      "Data columns (total 3 columns):\n",
      " #   Column     Non-Null Count   Dtype \n",
      "---  ------     --------------   ----- \n",
      " 0   user_id    404770 non-null  int64 \n",
      " 1   revenue    404770 non-null  int64 \n",
      " 2   testgroup  404770 non-null  object\n",
      "dtypes: int64(2), object(1)\n",
      "memory usage: 9.3+ MB\n"
     ]
    }
   ],
   "source": [
    "#Проверяем данные:\n",
    "task_2.info()"
   ]
  },
  {
   "cell_type": "markdown",
   "metadata": {},
   "source": [
    "Пропуски отсутствуют."
   ]
  },
  {
   "cell_type": "code",
   "execution_count": 16,
   "metadata": {},
   "outputs": [
    {
     "data": {
      "text/plain": [
       "user_id      404770\n",
       "revenue        1477\n",
       "testgroup         2\n",
       "dtype: int64"
      ]
     },
     "execution_count": 16,
     "metadata": {},
     "output_type": "execute_result"
    }
   ],
   "source": [
    "task_2.nunique()"
   ]
  },
  {
   "cell_type": "code",
   "execution_count": 17,
   "metadata": {},
   "outputs": [
    {
     "name": "stdout",
     "output_type": "stream",
     "text": [
      "26.75128659327863\n",
      "25.413719736965806\n"
     ]
    },
    {
     "data": {
      "text/plain": [
       "105.2631683600699"
      ]
     },
     "execution_count": 17,
     "metadata": {},
     "output_type": "execute_result"
    }
   ],
   "source": [
    "#Проверяем нашу теорию, что ARPU в тестовой группе выше на 5%, чем в контрольной\n",
    "ARPU_testgroup_b = task_2.query('testgroup == \"b\"').revenue.sum() / task_2.query('testgroup == \"b\"').user_id.count()\n",
    "print(ARPU_testgroup_b)\n",
    "ARPU_testgroup_a = task_2.query('testgroup == \"a\"').revenue.sum() / task_2.query('testgroup == \"a\"').user_id.count()\n",
    "print(ARPU_testgroup_a)\n",
    "ARPU_testgroup_b / ARPU_testgroup_a * 100"
   ]
  },
  {
   "cell_type": "code",
   "execution_count": 18,
   "metadata": {},
   "outputs": [
    {
     "name": "stdout",
     "output_type": "stream",
     "text": [
      "Число участников тестовой группы: 202667\n",
      "Число платящих тестовой группы: 1805\n",
      "Число участников контрольной группы: 202103\n",
      "Число участников контрольной группы: 1928\n"
     ]
    }
   ],
   "source": [
    "#Проверяем количество платящих и общее число участников групп\n",
    "print(f'''Число участников тестовой группы: {task_2.query('testgroup == \"b\"').user_id.count()}''')\n",
    "print(f'''Число платящих тестовой группы: {task_2.query('testgroup == \"b\" & revenue > 0').user_id.count()}''')\n",
    "print(f'''Число участников контрольной группы: {task_2.query('testgroup == \"a\"').user_id.count()}''')\n",
    "print(f'''Число участников контрольной группы: {task_2.query('testgroup == \"a\" & revenue > 0').user_id.count()}''')"
   ]
  },
  {
   "cell_type": "code",
   "execution_count": 19,
   "metadata": {},
   "outputs": [
    {
     "name": "stdout",
     "output_type": "stream",
     "text": [
      "Конверсия в платящего в тестовой группе: 0.8906235351586593\n",
      "Конверсия в платящего в контрольной группе: 0.9539690157988748\n"
     ]
    }
   ],
   "source": [
    "#Посчитаем конверсию в платящих по группам\n",
    "converse_b = task_2.query('testgroup==\"b\" & revenue>0').user_id.count() / task_2.query('testgroup==\"b\"').user_id.count() * 100\n",
    "converse_a = task_2.query('testgroup==\"a\" & revenue>0').user_id.count() / task_2.query('testgroup==\"a\"').user_id.count() * 100\n",
    "print(f'Конверсия в платящего в тестовой группе: {converse_b}')\n",
    "print(f'Конверсия в платящего в контрольной группе: {converse_a}')"
   ]
  },
  {
   "cell_type": "code",
   "execution_count": 20,
   "metadata": {},
   "outputs": [
    {
     "name": "stdout",
     "output_type": "stream",
     "text": [
      "Средний чек платящего клиента в тестовой группе: 3003.6581717451522\n",
      "Средний чек платящего клиента в контрольной группе: 2663.9984439834025\n"
     ]
    }
   ],
   "source": [
    "#Посчитаем ARPPU в группах\n",
    "ARPPU_b = task_2.query('testgroup == \"b\" & revenue > 0').revenue.sum() / task_2.query('testgroup == \"b\" & revenue > 0').user_id.count()\n",
    "print(f'Средний чек платящего клиента в тестовой группе: {ARPPU_b}')\n",
    "ARPPU_a = task_2.query('testgroup == \"a\" & revenue > 0').revenue.sum() / task_2.query('testgroup == \"a\" & revenue > 0').user_id.count()\n",
    "print(f'Средний чек платящего клиента в контрольной группе: {ARPPU_a}')"
   ]
  },
  {
   "cell_type": "markdown",
   "metadata": {},
   "source": [
    "Проверим статзначимость ARPU."
   ]
  },
  {
   "cell_type": "code",
   "execution_count": 21,
   "metadata": {},
   "outputs": [
    {
     "name": "stdout",
     "output_type": "stream",
     "text": [
      "ShapiroResult(statistic=0.06588172912597656, pvalue=0.0)\n",
      "ShapiroResult(statistic=0.008876502513885498, pvalue=0.0)\n"
     ]
    },
    {
     "name": "stderr",
     "output_type": "stream",
     "text": [
      "/opt/tljh/user/lib/python3.7/site-packages/scipy/stats/morestats.py:1760: UserWarning: p-value may not be accurate for N > 5000.\n",
      "  warnings.warn(\"p-value may not be accurate for N > 5000.\")\n"
     ]
    }
   ],
   "source": [
    "#Проверим нормальность распределения и дисперсии выручки\n",
    "print(ss.shapiro(task_2.query('testgroup == \"b\"').revenue))\n",
    "print(ss.shapiro(task_2.query('testgroup == \"a\"').revenue))"
   ]
  },
  {
   "cell_type": "code",
   "execution_count": 22,
   "metadata": {},
   "outputs": [
    {
     "data": {
      "text/plain": [
       "LeveneResult(statistic=0.3896289474701388, pvalue=0.5324948591043842)"
      ]
     },
     "execution_count": 22,
     "metadata": {},
     "output_type": "execute_result"
    }
   ],
   "source": [
    "ss.levene(task_2.query('testgroup == \"b\"').revenue, task_2.query('testgroup == \"a\"').revenue)"
   ]
  },
  {
   "cell_type": "markdown",
   "metadata": {},
   "source": [
    "Распределения не нормальны, дисперсии не имеют существенных различий. С учётом большого объёма выборки, можно пренебречь ненормальностью распределения и использовать t-тест."
   ]
  },
  {
   "cell_type": "code",
   "execution_count": 23,
   "metadata": {},
   "outputs": [
    {
     "data": {
      "text/plain": [
       "Ttest_indResult(statistic=0.6242026493616787, pvalue=0.532494858971837)"
      ]
     },
     "execution_count": 23,
     "metadata": {},
     "output_type": "execute_result"
    }
   ],
   "source": [
    "#Проверим статзначимость ARPU\n",
    "ss.ttest_ind(task_2.query('testgroup == \"b\"').revenue, task_2.query('testgroup == \"a\"').revenue)"
   ]
  },
  {
   "cell_type": "markdown",
   "metadata": {},
   "source": [
    "Показатель ARPU не оказывает статзначимого влияния на исследование. Несмотря на 5% превышение среднего чека в контрольной группе в сравнении с тестовой, данное обстоятельство можно не учитывать."
   ]
  },
  {
   "cell_type": "markdown",
   "metadata": {},
   "source": [
    "Проверим статзначимость ARPPU."
   ]
  },
  {
   "cell_type": "code",
   "execution_count": 35,
   "metadata": {},
   "outputs": [
    {
     "data": {
      "text/plain": [
       "Ttest_indResult(statistic=1.5917100176862002, pvalue=0.11153459157259504)"
      ]
     },
     "execution_count": 35,
     "metadata": {},
     "output_type": "execute_result"
    }
   ],
   "source": [
    "#Проверим статзначимость ARPPU. \n",
    "#Параметры выручки остаются неизменными, поэтому проведём ещё один t-тест, но уже среди платящих пользователей \n",
    "ss.ttest_ind(task_2.query('testgroup == \"b\" & revenue > 0').revenue, task_2.query('testgroup == \"a\" & revenue > 0').revenue)"
   ]
  },
  {
   "cell_type": "markdown",
   "metadata": {},
   "source": [
    "Показатель ARPPU также не оказывает статзначимого влияния на исследование."
   ]
  },
  {
   "cell_type": "markdown",
   "metadata": {},
   "source": [
    "Проверим статзначимость конверсии в платящего пользователя."
   ]
  },
  {
   "cell_type": "code",
   "execution_count": 25,
   "metadata": {},
   "outputs": [
    {
     "data": {
      "text/html": [
       "<div>\n",
       "<style scoped>\n",
       "    .dataframe tbody tr th:only-of-type {\n",
       "        vertical-align: middle;\n",
       "    }\n",
       "\n",
       "    .dataframe tbody tr th {\n",
       "        vertical-align: top;\n",
       "    }\n",
       "\n",
       "    .dataframe thead th {\n",
       "        text-align: right;\n",
       "    }\n",
       "</style>\n",
       "<table border=\"1\" class=\"dataframe\">\n",
       "  <thead>\n",
       "    <tr style=\"text-align: right;\">\n",
       "      <th></th>\n",
       "      <th>testgroup</th>\n",
       "      <th>total_users</th>\n",
       "      <th>paying_users</th>\n",
       "    </tr>\n",
       "  </thead>\n",
       "  <tbody>\n",
       "    <tr>\n",
       "      <th>0</th>\n",
       "      <td>a</td>\n",
       "      <td>202103</td>\n",
       "      <td>1928</td>\n",
       "    </tr>\n",
       "    <tr>\n",
       "      <th>1</th>\n",
       "      <td>b</td>\n",
       "      <td>202667</td>\n",
       "      <td>1805</td>\n",
       "    </tr>\n",
       "  </tbody>\n",
       "</table>\n",
       "</div>"
      ],
      "text/plain": [
       "  testgroup  total_users  paying_users\n",
       "0         a       202103          1928\n",
       "1         b       202667          1805"
      ]
     },
     "execution_count": 25,
     "metadata": {},
     "output_type": "execute_result"
    }
   ],
   "source": [
    "#Для расчёта статзначимости конверсии преобразуем исходный датафрейм с добавлением необходимых столбцов\n",
    "task_2['conversion'] = task_2.revenue.apply(lambda x: 1 if x > 0 else 0)\n",
    "task_2_converse = task_2.groupby('testgroup', as_index = False) \\\n",
    "                        .agg(total_users = ('user_id', 'count'), paying_users = ('conversion', 'sum'))\n",
    "task_2_converse"
   ]
  },
  {
   "cell_type": "code",
   "execution_count": 36,
   "metadata": {},
   "outputs": [
    {
     "data": {
      "text/plain": [
       "(2.108028495889841, 0.035028524642854865)"
      ]
     },
     "execution_count": 36,
     "metadata": {},
     "output_type": "execute_result"
    }
   ],
   "source": [
    "#Проверяем статзначимость конверсии в платящего пользователя обеих групп \n",
    "from statsmodels.stats.proportion import proportions_ztest\n",
    "z_stat, p_value_conv = proportions_ztest(task_2_converse.paying_users, task_2_converse.total_users)\n",
    "z_stat, p_value_conv"
   ]
  },
  {
   "cell_type": "markdown",
   "metadata": {},
   "source": [
    "Конверсия в платящего пользователя статзначима в нашем исследовании. Несмотря на 5% преимущество по среднему чеку, определяющее значение в нашем исследовании имеет показатель конверсии в платящего пользователя. Посмотрим на общую информацию по выручке в разрезе групп."
   ]
  },
  {
   "cell_type": "code",
   "execution_count": 31,
   "metadata": {},
   "outputs": [
    {
     "data": {
      "text/plain": [
       "count     1928.000000\n",
       "mean      2663.998444\n",
       "std       9049.039763\n",
       "min        200.000000\n",
       "25%        257.000000\n",
       "50%        311.000000\n",
       "75%        361.000000\n",
       "max      37433.000000\n",
       "Name: revenue, dtype: float64"
      ]
     },
     "execution_count": 31,
     "metadata": {},
     "output_type": "execute_result"
    }
   ],
   "source": [
    "task_2[(task_2['revenue'] > 0) & (task_2['testgroup'] == \"a\")].revenue.describe()"
   ]
  },
  {
   "cell_type": "code",
   "execution_count": 32,
   "metadata": {},
   "outputs": [
    {
     "data": {
      "text/plain": [
       "count    1805.000000\n",
       "mean     3003.658172\n",
       "std       572.619709\n",
       "min      2000.000000\n",
       "25%      2513.000000\n",
       "50%      3022.000000\n",
       "75%      3478.000000\n",
       "max      4000.000000\n",
       "Name: revenue, dtype: float64"
      ]
     },
     "execution_count": 32,
     "metadata": {},
     "output_type": "execute_result"
    }
   ],
   "source": [
    "task_2[(task_2['revenue'] > 0) & (task_2['testgroup'] == \"b\")].revenue.describe()"
   ]
  },
  {
   "cell_type": "markdown",
   "metadata": {},
   "source": [
    "По итогам исследования можно сделать вывод, что набор предложений в тестовой группе не является превосходящим по качеству предложения контрольной. Необходимо принять во внимание конверсию в платящего пользователя контрольной группы, которая показывает, что клиенты охотнее делают выбор в пользу акционных предложений именно этой группы. Больший средний чек у тестовой группы, судя по предварительному анализу, обусловен либо более дорогой стоимостью предложений, либо большим доходом участников тестовой группы. Так как максимальное значение выручки от одного клиента в тестовой группе значительно превосходит и среднее по группе, и значение 75-% перцентиля. Скорее всего, на ARPU оказал влияние выброс, исказив показатель."
   ]
  },
  {
   "cell_type": "markdown",
   "metadata": {},
   "source": [
    "# Задача 3."
   ]
  },
  {
   "cell_type": "markdown",
   "metadata": {},
   "source": [
    "В исследуемом приложении каждый месяц проводятся тематические события, ограниченные по времени. В них игроки могут получить уникальные предметы, дополнительные монеты или бонусы. Для получения награды требуется пройти ряд уровней за определенное время. С помощью каких метрик можно оценить результаты последнего прошедшего события?\n",
    "\n",
    "Предположим, в другом событии мы усложнили механику событий так, что при каждой неудачной попытке выполнения уровня игрок будет откатываться на несколько уровней назад. Изменится ли набор метрик оценки результата? Если да, то как?"
   ]
  },
  {
   "cell_type": "markdown",
   "metadata": {},
   "source": [
    "Метрики для анализа события:\n",
    "1. DAU. При сравнении численности аудитории, чтобы проанализировать рост или спад интереса к событию в сравнении с предыдущим наиболее подойдёт DAU, на которой мы увидим количество пользователей в игре в день события.\n",
    "2. Конверсия в участника. Данная метрика покажет, какая доля пользователей из общего числа в этот день решила поучаствовать в событии. Таким образом, мы выявим интерес к событию среди лояльных пользователей.\n",
    "3. Процент успешно прошедших дополнительные уровни пользователей от общего числа участников. Сравнение данной метрики с аналогичной в предыдущем событии покажет не были ли уровни слишком лёгкие или сложные для прохождения в целях анализа при планировании следующего мероприятия."
   ]
  },
  {
   "cell_type": "markdown",
   "metadata": {},
   "source": [
    "При усложнении прохождения уровней в мероприятии набор метрик изменится следующим образом:\n",
    "Метрики с предыдущего этапа останутся, так как они нам необходимы для регулярного мониторинга.\n",
    "При этом я добавляю следующие метрики:\n",
    "1. Длительность нахождения пользователя в игре, чтобы посмотреть, не оттолкнёт ли усложнение уровней желание участников пройти мероприятие.\n",
    "2. Retention следующих мероприятий. Не снизит ли усложнившаяся механика количество участников следующих событий после возможного негативного опыта с мероприятием с изменившейся сложностью. Если retention начнёт снижаться, стоит задуматься об облегчении уровней в целях удержания аудитории."
   ]
  }
 ],
 "metadata": {
  "kernelspec": {
   "display_name": "Python 3 (ipykernel)",
   "language": "python",
   "name": "python3"
  },
  "language_info": {
   "codemirror_mode": {
    "name": "ipython",
    "version": 3
   },
   "file_extension": ".py",
   "mimetype": "text/x-python",
   "name": "python",
   "nbconvert_exporter": "python",
   "pygments_lexer": "ipython3",
   "version": "3.12.7"
  }
 },
 "nbformat": 4,
 "nbformat_minor": 4
}
